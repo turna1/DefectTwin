{
  "cells": [
    {
      "cell_type": "markdown",
      "source": [
        "Step 1: Initialize the parameters to create the dataset\n",
        "\n",
        "**Temperature:**\n",
        "Choose the temperature (between 0 and 1) to use when generating data. Lower values are great for precise tasks, like writing code, whereas larger values are better for creative tasks, like writing stories.\n",
        "\n",
        "\n",
        "**Number of Samples:**\n",
        "\n",
        "choose how many examples you want to generate. The more you generate, a) the longer it takes and b) the more expensive data generation will be. But generally, more examples will lead to a higher-quality model"
      ],
      "metadata": {
        "id": "IWorz3e-eX0T"
      }
    },
    {
      "cell_type": "code",
      "source": [
        "prompt = \"\"\"A model that takes in a material of a railway component and its defect description, and outputs: 1. Detailed visual properties of the defect, suitable for creating a realistic texture in a 3D model\n",
        ", 2. Recommendations for textures to simulate the defect accurately in a 3D modeling environment, 3. Necessary changes in parameters or attributes in the 3D model\n",
        "to reflect the defect accurately.\"\"\"\n",
        "temperature = .5\n",
        "number_of_examples = 100 #better to generate 100 samples"
      ],
      "metadata": {
        "id": "R7WKZyxtpUPS"
      },
      "execution_count": null,
      "outputs": []
    },
    {
      "cell_type": "markdown",
      "source": [
        "Step 2- Install OpenAI"
      ],
      "metadata": {
        "id": "1snNou5PrIci"
      }
    },
    {
      "cell_type": "code",
      "source": [
        "!pip install openai==0.28"
      ],
      "metadata": {
        "id": "zuL2UaqlsmBD",
        "outputId": "8e251941-8532-4230-ca7f-7afce98f3159",
        "colab": {
          "base_uri": "https://localhost:8080/"
        }
      },
      "execution_count": null,
      "outputs": [
        {
          "output_type": "stream",
          "name": "stdout",
          "text": [
            "Requirement already satisfied: openai==0.28 in /usr/local/lib/python3.10/dist-packages (0.28.0)\n",
            "Requirement already satisfied: requests>=2.20 in /usr/local/lib/python3.10/dist-packages (from openai==0.28) (2.31.0)\n",
            "Requirement already satisfied: tqdm in /usr/local/lib/python3.10/dist-packages (from openai==0.28) (4.66.4)\n",
            "Requirement already satisfied: aiohttp in /usr/local/lib/python3.10/dist-packages (from openai==0.28) (3.9.5)\n",
            "Requirement already satisfied: charset-normalizer<4,>=2 in /usr/local/lib/python3.10/dist-packages (from requests>=2.20->openai==0.28) (3.3.2)\n",
            "Requirement already satisfied: idna<4,>=2.5 in /usr/local/lib/python3.10/dist-packages (from requests>=2.20->openai==0.28) (3.7)\n",
            "Requirement already satisfied: urllib3<3,>=1.21.1 in /usr/local/lib/python3.10/dist-packages (from requests>=2.20->openai==0.28) (2.0.7)\n",
            "Requirement already satisfied: certifi>=2017.4.17 in /usr/local/lib/python3.10/dist-packages (from requests>=2.20->openai==0.28) (2024.2.2)\n",
            "Requirement already satisfied: aiosignal>=1.1.2 in /usr/local/lib/python3.10/dist-packages (from aiohttp->openai==0.28) (1.3.1)\n",
            "Requirement already satisfied: attrs>=17.3.0 in /usr/local/lib/python3.10/dist-packages (from aiohttp->openai==0.28) (23.2.0)\n",
            "Requirement already satisfied: frozenlist>=1.1.1 in /usr/local/lib/python3.10/dist-packages (from aiohttp->openai==0.28) (1.4.1)\n",
            "Requirement already satisfied: multidict<7.0,>=4.5 in /usr/local/lib/python3.10/dist-packages (from aiohttp->openai==0.28) (6.0.5)\n",
            "Requirement already satisfied: yarl<2.0,>=1.0 in /usr/local/lib/python3.10/dist-packages (from aiohttp->openai==0.28) (1.9.4)\n",
            "Requirement already satisfied: async-timeout<5.0,>=4.0 in /usr/local/lib/python3.10/dist-packages (from aiohttp->openai==0.28) (4.0.3)\n"
          ]
        }
      ]
    },
    {
      "cell_type": "code",
      "source": [
        "\n",
        "openai.api_key = \"YOUR KEY\" #Replace with your API Key"
      ],
      "metadata": {
        "id": "BmtdB60mQf8X"
      },
      "execution_count": null,
      "outputs": []
    },
    {
      "cell_type": "markdown",
      "source": [
        "Step 3- Generate Examples using OpenAI\n",
        "\n",
        "You can also download a sample dataset from this link: https://drive.google.com/file/d/1yQx0mW6C-YDwIWBqC2f3_8nbrGwKwcyS/view?usp=sharing"
      ],
      "metadata": {
        "id": "0wbLmL3LjUkQ"
      }
    },
    {
      "cell_type": "code",
      "source": [
        "import os\n",
        "import openai\n",
        "import random\n",
        "from tenacity import retry, stop_after_attempt, wait_exponential\n",
        "\n",
        "openai.api_key = \"sk-proj-5iy4bwrqAW8GpguiEawaT3BlbkFJ8p88lLSjOCeDbxWsAOlr\" #Replace with your API Key\n",
        "\n",
        "N_RETRIES = 1\n",
        "\n",
        "@retry(stop=stop_after_attempt(N_RETRIES), wait=wait_exponential(multiplier=1, min=4, max=70))\n",
        "def generate_example(prompt, prev_examples, temperature=.5):\n",
        "    messages=[\n",
        "        {\n",
        "            \"role\": \"system\",\n",
        "            \"content\": f\"You are generating data which will be used to train a machine learning model.\\n\\nYou will be given a high-level description of the model we want to train, and from that, you will generate data samples, each with a prompt/response pair.\\n\\nYou will do so in this format:\\n```\\nprompt\\n-----------\\n$prompt_goes_here\\n-----------\\n\\nresponse\\n-----------\\n$response_goes_here\\n-----------\\n```\\n\\nOnly one prompt/response pair should be generated per turn.\\n\\nFor each turn, make the example slightly more complex than the last, while ensuring diversity.\\n\\nMake sure your samples are unique and diverse, yet high-quality and complex enough to train a well-performing model.\\n\\nHere is the type of model we want to train:\\n`{prompt}`\"\n",
        "        }\n",
        "    ]\n",
        "\n",
        "    if len(prev_examples) > 0:\n",
        "        if len(prev_examples) > 8:\n",
        "            prev_examples = random.sample(prev_examples, 8)\n",
        "        for example in prev_examples:\n",
        "            messages.append({\n",
        "                \"role\": \"assistant\",\n",
        "                \"content\": example\n",
        "            })\n",
        "\n",
        "    response = openai.ChatCompletion.create(\n",
        "        model=\"gpt-4\",\n",
        "        messages=messages,\n",
        "        temperature=temperature,\n",
        "        max_tokens=100,\n",
        "    )\n",
        "\n",
        "    return response.choices[0].message['content']\n",
        "\n",
        "# Generate examples\n",
        "prev_examples = []\n",
        "for i in range(number_of_examples):\n",
        "    print(f'Generating example {i}')\n",
        "    example = generate_example(prompt, prev_examples, temperature)\n",
        "    prev_examples.append(example)\n",
        "\n",
        "print(prev_examples)"
      ],
      "metadata": {
        "id": "Rdsd82ngpHCG",
        "outputId": "1ddcc1f2-343a-432f-9a5e-e29de73be733",
        "colab": {
          "base_uri": "https://localhost:8080/"
        }
      },
      "execution_count": null,
      "outputs": [
        {
          "output_type": "stream",
          "name": "stdout",
          "text": [
            "Generating example 0\n",
            "Generating example 1\n",
            "Generating example 2\n",
            "Generating example 3\n",
            "Generating example 4\n",
            "Generating example 5\n",
            "Generating example 6\n",
            "Generating example 7\n",
            "Generating example 8\n",
            "Generating example 9\n",
            "Generating example 10\n",
            "Generating example 11\n",
            "Generating example 12\n",
            "Generating example 13\n",
            "Generating example 14\n",
            "Generating example 15\n",
            "Generating example 16\n",
            "Generating example 17\n",
            "Generating example 18\n",
            "Generating example 19\n",
            "Generating example 20\n",
            "Generating example 21\n",
            "Generating example 22\n",
            "Generating example 23\n",
            "Generating example 24\n",
            "Generating example 25\n",
            "Generating example 26\n",
            "Generating example 27\n",
            "Generating example 28\n",
            "Generating example 29\n",
            "Generating example 30\n",
            "Generating example 31\n",
            "Generating example 32\n",
            "Generating example 33\n",
            "Generating example 34\n",
            "Generating example 35\n",
            "Generating example 36\n",
            "Generating example 37\n",
            "Generating example 38\n",
            "Generating example 39\n",
            "Generating example 40\n",
            "Generating example 41\n",
            "Generating example 42\n",
            "Generating example 43\n",
            "Generating example 44\n",
            "Generating example 45\n",
            "Generating example 46\n",
            "Generating example 47\n",
            "Generating example 48\n",
            "Generating example 49\n",
            "Generating example 50\n",
            "Generating example 51\n",
            "Generating example 52\n",
            "Generating example 53\n",
            "Generating example 54\n",
            "Generating example 55\n",
            "Generating example 56\n",
            "Generating example 57\n",
            "Generating example 58\n",
            "Generating example 59\n",
            "Generating example 60\n",
            "Generating example 61\n",
            "Generating example 62\n",
            "Generating example 63\n",
            "Generating example 64\n",
            "Generating example 65\n",
            "Generating example 66\n",
            "Generating example 67\n",
            "Generating example 68\n",
            "Generating example 69\n",
            "Generating example 70\n",
            "Generating example 71\n",
            "Generating example 72\n",
            "Generating example 73\n",
            "Generating example 74\n",
            "Generating example 75\n",
            "Generating example 76\n",
            "Generating example 77\n",
            "Generating example 78\n",
            "Generating example 79\n",
            "Generating example 80\n",
            "Generating example 81\n",
            "Generating example 82\n",
            "Generating example 83\n",
            "Generating example 84\n",
            "Generating example 85\n",
            "Generating example 86\n",
            "Generating example 87\n",
            "Generating example 88\n",
            "Generating example 89\n",
            "Generating example 90\n",
            "Generating example 91\n",
            "Generating example 92\n",
            "Generating example 93\n",
            "Generating example 94\n",
            "Generating example 95\n",
            "Generating example 96\n",
            "Generating example 97\n",
            "Generating example 98\n",
            "Generating example 99\n",
            "['prompt\\n-----------\\nMaterial: Steel\\nDefect: Corrosion\\n-----------\\n\\nresponse\\n-----------\\n1. Visual Properties: The corrosion on the steel appears as irregular, rough patches that vary in color from brown to reddish-brown. The affected areas are pitted and uneven, with the corrosion often forming in flaky layers that can peel off. Some areas may have a powdery residue.\\n\\n2. Texture Recommendations: Use a rough, irregular texture to simulate the pitted and uneven surface of the', 'prompt\\n-----------\\nMaterial: Concrete\\nDefect: Cracking\\n-----------\\n\\nresponse\\n-----------\\n1. Visual Properties: Cracks in the concrete are usually linear, varying in width from hairline to several millimeters. The color inside the cracks is often darker than the surrounding concrete, and there may be signs of dust or loose concrete particles. The surface around the crack may be slightly raised or uneven.\\n\\n2. Texture Recommendations: Use a linear, jagged texture to simulate the cracks. The texture should vary', 'prompt\\n-----------\\nMaterial: Wood\\nDefect: Rot\\n-----------\\n\\nresponse\\n-----------\\n1. Visual Properties: Wood rot is characterized by a dark discoloration, which contrasts with the lighter, healthy wood. The affected area is typically soft and crumbly, and may have a damp, musty odor. The wood fibers often appear stringy or spongy.\\n\\n2. Texture Recommendations: To simulate wood rot, use a soft, crumbly texture with a dark discoloration. The', 'prompt\\n-----------\\nMaterial: Iron\\nDefect: Rust\\n-----------\\n\\nresponse\\n-----------\\n1. Visual Properties: Rust on iron appears as reddish-brown, flaky deposits that can cover large areas of the material. The rusted areas are rough and uneven, with the rust often forming in layers that can peel off. In advanced stages, rust can cause pitting and structural weakness in the iron.\\n\\n2. Texture Recommendations: Use a rough, flaky texture to simulate the rust. The texture should', 'prompt\\n-----------\\nMaterial: Copper\\nDefect: Patina\\n-----------\\n\\nresponse\\n-----------\\n1. Visual Properties: The patina on copper appears as a greenish-blue, uneven layer covering parts or the entirety of the surface. This layer is quite smooth and has a dull, matte finish. It forms patterns that are irregular but generally follow the shape of the object.\\n\\n2. Texture Recommendations: Use a smooth, matte texture with a greenish-blue color to simulate the patina. The texture should be', 'prompt\\n-----------\\nMaterial: Aluminum\\nDefect: Oxidation\\n-----------\\n\\nresponse\\n-----------\\n1. Visual Properties: Oxidation on aluminum appears as a dull, whitish, powdery deposit that can cover large areas of the material. The oxidized areas are generally smooth but can appear pitted in advanced stages. The oxidation can cause discoloration and loss of luster in the aluminum.\\n\\n2. Texture Recommendations: Use a smooth, dull texture with a whitish color to simulate the', 'prompt\\n-----------\\nMaterial: Brass\\nDefect: Tarnish\\n-----------\\n\\nresponse\\n-----------\\n1. Visual Properties: Tarnish on brass appears as a dull, dark layer that can cover parts or the entirety of the surface. The tarnished areas are generally smooth but can appear uneven and patchy. The tarnish can cause significant discoloration, turning the bright gold color of brass into a darker, brownish hue.\\n\\n2. Texture Recommendations: Use a smooth, dull texture with a dark', 'prompt\\n-----------\\nMaterial: Steel\\nDefect: Fatigue cracks\\n-----------\\n\\nresponse\\n-----------\\n1. Visual Properties: Fatigue cracks in steel typically start small and grow under the action of fluctuating stresses. They are characterized by a smooth area called the crack origin, and rough, jagged edges that radiate outwards. The cracks can be straight or branching, and are often accompanied by discoloration or rust.\\n\\n2. Texture Recommendations: Use a combination of smooth and jagged textures to simulate', 'prompt\\n-----------\\nMaterial: Concrete\\nDefect: Efflorescence\\n-----------\\n\\nresponse\\n-----------\\n1. Visual Properties: Efflorescence in concrete appears as a white, powdery deposit that forms on the surface. The affected areas are generally smooth but can appear rough and crumbly in advanced stages. The efflorescence can cause discoloration and a chalky feel to the touch.\\n\\n2. Texture Recommendations: Use a smooth, powdery texture with a white color to', 'prompt\\n-----------\\nMaterial: Glass\\nDefect: Scratches\\n-----------\\n\\nresponse\\n-----------\\n1. Visual Properties: Scratches on glass appear as thin, white lines that can cover parts or the entirety of the surface. The scratched areas are rough to the touch and can cause distortions when looking through the glass. The scratches can be straight or curved, and vary in length and depth.\\n\\n2. Texture Recommendations: Use a thin, rough texture to simulate the scratches. The texture should be white and cause', 'prompt\\n-----------\\nMaterial: Plastic\\nDefect: Discoloration\\n-----------\\n\\nresponse\\n-----------\\n1. Visual Properties: Discoloration in plastic can appear as uneven patches of color that vary from the original hue. This can range from slight yellowing to drastic changes, like white plastic turning brown. The discolored areas are generally smooth but can appear dull or faded.\\n\\n2. Texture Recommendations: Use a smooth, dull texture with a color that matches the discoloration to simulate the defect. The', 'prompt\\n-----------\\nMaterial: Rubber\\nDefect: Cracking\\n-----------\\n\\nresponse\\n-----------\\n1. Visual Properties: Cracking in rubber appears as thin, irregular lines that can cover parts or the entirety of the surface. The cracked areas are rough to the touch and can cause weaknesses in the material. The cracks can be straight or branched, and vary in length and depth.\\n\\n2. Texture Recommendations: Use a rough, lined texture to simulate the cracks. The texture should be', 'prompt\\n-----------\\nMaterial: Aluminium\\nDefect: Oxidation\\n-----------\\n\\nresponse\\n-----------\\n1. Visual Properties: Oxidation on aluminium appears as a dull, white, powdery deposit that can cover parts or the entirety of the surface. The oxidized areas are generally rough and can cause pitting or flaking of the aluminium surface. The white deposit can cause a significant contrast with the shiny, metallic color of untreated aluminium.\\n\\n2. Texture Recommendations: Use a rough, powdery', \"prompt\\n-----------\\nMaterial: Plastic\\nDefect: Warping\\n-----------\\n\\nresponse\\n-----------\\n1. Visual Properties: Warping in plastic appears as an irregular distortion or bending of the material's surface. The warped areas are smooth but not flat, causing light to reflect unevenly. The distortion can affect the entire object or just parts of it, and can vary in severity.\\n\\n2. Texture Recommendations: Use a smooth but irregular texture to simulate the warping. The texture should mimic the distorted and bent\", 'prompt\\n-----------\\nMaterial: Steel\\nDefect: Corrosion\\n-----------\\n\\nresponse\\n-----------\\n1. Visual Properties: Corrosion on steel appears as reddish-brown, uneven deposits that can cover large areas of the material. The corroded areas are rough and pitted, with the corrosion often forming in layers that can flake off. In advanced stages, corrosion can cause structural weakness in the steel.\\n\\n2. Texture Recommendations: Use a rough, pitted texture with a reddish-brown', 'prompt\\n-----------\\nMaterial: Copper\\nDefect: Patina\\n-----------\\n\\nresponse\\n-----------\\n1. Visual Properties: Patina on copper appears as a green, rough layer that can cover parts or the entirety of the surface. The patina layer is generally smooth but can appear uneven and patchy. The patina can cause significant discoloration, turning the bright reddish-brown color of copper into a greenish hue.\\n\\n2. Texture Recommendations: Use a smooth, dull texture with a green color', 'prompt\\n-----------\\nMaterial: Wood\\nDefect: Rot\\n-----------\\n\\nresponse\\n-----------\\n1. Visual Properties: Wood rot appears as discolored, soft and crumbly patches on the wood surface. The affected areas are often darker and may have a damp or musty smell. In advanced stages, the rot can cause structural weakness in the wood.\\n\\n2. Texture Recommendations: Use a soft, crumbly texture with a darker color to simulate the rot. The texture should mimic the discolored', 'prompt\\n-----------\\nMaterial: Concrete\\nDefect: Cracking\\n-----------\\n\\nresponse\\n-----------\\n1. Visual Properties: Cracks in concrete can range from hairline fractures to large and deep crevices. The cracked areas are generally rough and uneven, with the cracks often forming in random patterns. The color of the cracks can be darker than the surrounding concrete due to dirt and moisture accumulation.\\n\\n2. Texture Recommendations: Use a rough texture with varying depths to simulate the cracks. The texture should be darker in', 'prompt\\n-----------\\nMaterial: Aluminium\\nDefect: Oxidation\\n-----------\\n\\nresponse\\n-----------\\n1. Visual Properties: Oxidation on aluminium appears as a dull, white, powdery deposit that can cover parts or the entirety of the surface. The oxidized areas are generally rough and can cause pitting or flaking of the aluminium surface. The white deposit can cause a significant contrast with the shiny, metallic color of untreated aluminium.\\n\\n2. Texture Recommendations: Use a rough, powdery', 'prompt\\n-----------\\nMaterial: Copper\\nDefect: Oxidation\\n-----------\\n\\nresponse\\n-----------\\n1. Visual Properties: Oxidation on copper appears as a greenish-blue, powdery deposit that can cover parts or the entirety of the surface. The oxidized areas are generally rough and can cause pitting or flaking of the copper surface. The greenish-blue deposit can cause a significant contrast with the shiny, reddish-brown color of untreated copper.\\n\\n2. Texture Recommendations: Use a', 'prompt\\n-----------\\nMaterial: Iron\\nDefect: Corrosion\\n-----------\\n\\nresponse\\n-----------\\n1. Visual Properties: Corrosion on iron appears as reddish-brown, powdery deposits that can cover large areas of the material. The corroded areas are rough and uneven, with the corrosion often forming in layers that can peel off. In advanced stages, corrosion can cause pitting and structural weakness in the iron.\\n\\n2. Texture Recommendations: Use a rough, powdery texture to simulate', \"prompt\\n-----------\\nMaterial: Glass\\nDefect: Scratching\\n-----------\\n\\nresponse\\n-----------\\n1. Visual Properties: Scratching on glass appears as thin, irregular lines that can cover parts or the entirety of the surface. The scratched areas are rough to the touch and can cause distortions in the glass's clarity. The scratches can be straight or branched, and vary in length and depth.\\n\\n2. Texture Recommendations: Use a rough, lined texture to simulate the scratches. The texture should mimic the distorted\", 'prompt\\n-----------\\nMaterial: Aluminum\\nDefect: Oxidation\\n-----------\\n\\nresponse\\n-----------\\n1. Visual Properties: Oxidation on aluminum appears as a dull, whitish, powdery deposit that can cover parts or the entirety of the surface. The oxidized areas are rough to touch and may have a pitted appearance. Over time, the oxidation can cause the aluminum to lose its metallic shine.\\n\\n2. Texture Recommendations: Use a rough, dull texture with a whitish color to simulate', 'prompt\\n-----------\\nMaterial: Glass\\nDefect: Scratches\\n-----------\\n\\nresponse\\n-----------\\n1. Visual Properties: Scratches on glass appear as thin, clear lines that can cover parts or the entirety of the surface. The scratched areas are generally smooth but can cause diffraction of light, making the scratches visible. The scratches can be straight or branched, and vary in length and depth.\\n\\n2. Texture Recommendations: Use a thin, clear line texture to simulate the scratches. The texture should be', 'prompt\\n-----------\\nMaterial: Plastic\\nDefect: Warping\\n-----------\\n\\nresponse\\n-----------\\n1. Visual Properties: Warping in plastic results in a distorted shape, with the material bending or twisting out of its original form. The warped areas can have a stretched or compressed look, and the surface may appear shiny or glossy. The color of the plastic may also change, becoming lighter or darker in the warped areas.\\n\\n2. Texture Recommendations: Use a distorted, shiny texture to simulate the warping. The', 'prompt\\n-----------\\nMaterial: Copper\\nDefect: Patina Formation\\n-----------\\n\\nresponse\\n-----------\\n1. Visual Properties: Patina on copper appears as a greenish-blue, uneven layer that can cover parts or the entirety of the surface. The patina areas are generally smooth but not shiny, and can cause a significant color contrast with the reddish-brown color of untreated copper.\\n\\n2. Texture Recommendations: Use a smooth, layered texture with a greenish-blue color to simulate the patina. The', 'prompt\\n-----------\\nMaterial: Concrete\\nDefect: Cracks\\n-----------\\n\\nresponse\\n-----------\\n1. Visual Properties: Cracks in concrete can range from hairline fractures to large crevices, often with a rough, jagged appearance. The cracks may be straight, branching, or random, and are typically darker than the surrounding concrete due to dirt and moisture accumulation.\\n\\n2. Texture Recommendations: Use a rough, jagged texture to simulate the cracks. The texture should be darker than the surrounding concrete to', 'prompt\\n-----------\\nMaterial: Wood\\nDefect: Termites\\n-----------\\n\\nresponse\\n-----------\\n1. Visual Properties: Termite damage in wood appears as a series of tunnels or galleries that run across the grain of the wood. The damaged areas are generally rough and uneven, with visible termite feces or frass. The wood may also appear hollowed out in places where termites have eaten away the interior.\\n\\n2. Texture Recommendations: Use a rough, uneven texture to simulate the termite tunnels.', \"prompt\\n-----------\\nMaterial: Wood\\nDefect: Rot\\n-----------\\n\\nresponse\\n-----------\\n1. Visual Properties: Wood rot appears as dark, discolored areas that can be soft and crumbly or hard and brittle. The wood's grain may be disrupted, and the rot can cause significant structural weakness. In advanced stages, the rot can lead to large holes or missing sections of the wood.\\n\\n2. Texture Recommendations: Use a rough, uneven texture to simulate the rot. The texture should mimic the\", 'prompt\\n-----------\\nMaterial: Wood\\nDefect: Rot\\n-----------\\n\\nresponse\\n-----------\\n1. Visual Properties: Wood rot appears as discolored, soft, crumbly wood that may be covered with a layer of fungus. The color can vary from light brown to dark brown or even black. The rotted areas are often damp and may have a musty smell. The wood may be noticeably lighter in weight.\\n\\n2. Texture Recommendations: Use a soft, crumbly texture to simulate the', 'prompt\\n-----------\\nMaterial: Steel\\nDefect: Rust\\n-----------\\n\\nresponse\\n-----------\\n1. Visual Properties: Rust on steel appears as a reddish-brown, flaky coating that can cover parts or the entirety of the surface. The rusted areas are generally rough and can cause pitting or flaking of the steel surface. Rust can cause a significant contrast with the shiny, metallic color of untreated steel.\\n\\n2. Texture Recommendations: Use a rough, flaky texture with a reddish-brown', 'prompt\\n-----------\\nMaterial: Plastic\\nDefect: Warping\\n-----------\\n\\nresponse\\n-----------\\n1. Visual Properties: Warping in plastic appears as a distortion or deformation in the shape of the component. The warped areas may have a bulged or twisted appearance, and the surface may appear stretched or compressed. The color of the warped areas remains unchanged.\\n\\n2. Texture Recommendations: Use a distorted texture to simulate the warped areas. The texture should mimic the bulged or twisted appearance of the warped plastic. The', 'prompt\\n-----------\\nMaterial: Stainless Steel\\nDefect: Pitting Corrosion\\n-----------\\n\\nresponse\\n-----------\\n1. Visual Properties: Pitting corrosion on stainless steel appears as small, pinpoint depressions or holes on the surface. These pits can be random or clustered together, and vary in depth. The corroded areas are generally rough and can cause a significant change in the shiny, smooth surface of untreated stainless steel.\\n\\n2. Texture Recommendations: Use a rough, irregular texture with small depressions or holes', 'prompt\\n-----------\\nMaterial: Steel\\nDefect: Rusting\\n-----------\\n\\nresponse\\n-----------\\n1. Visual Properties: Rusting on steel appears as an orange-brown, flaky deposit that can cover large areas of the material. The rusted areas are rough and uneven, with the rust often forming in layers that can peel off. In advanced stages, rusting can cause pitting and structural weakness in the steel.\\n\\n2. Texture Recommendations: Use a rough, layered texture with an orange-brown color', 'prompt\\n-----------\\nMaterial: Steel\\nDefect: Pitting Corrosion\\n-----------\\n\\nresponse\\n-----------\\n1. Visual Properties: Pitting corrosion on steel appears as small, deep holes or cavities scattered across the surface. The pits can vary in size and depth, and are typically darker than the surrounding steel due to rust formation. The pitted areas are rough and can cause an uneven surface texture.\\n\\n2. Texture Recommendations: Use a rough, uneven texture with small, darkened pits to simulate the', 'prompt\\n-----------\\nMaterial: Concrete\\nDefect: Cracking\\n-----------\\n\\nresponse\\n-----------\\n1. Visual Properties: Cracks in concrete appear as thin, irregular lines that can cover parts or the entirety of the surface. The cracked areas are rough and can cause significant changes in the surface profile. The cracks can be straight or interconnected, and vary in length and width.\\n\\n2. Texture Recommendations: Use a rough, irregular line texture to simulate the cracks. The texture should be', 'prompt\\n-----------\\nMaterial: Steel\\nDefect: Corrosion\\n-----------\\n\\nresponse\\n-----------\\n1. Visual Properties: Corrosion on steel appears as a rough, reddish-brown deposit that can cover parts or the entirety of the surface. The corroded areas are generally uneven and can cause pitting or flaking of the steel surface. The corrosion can cause significant discoloration, turning the shiny metallic color of steel into a dull, reddish-brown hue.\\n\\n2. Texture Recommendations:', 'prompt\\n-----------\\nMaterial: Copper\\nDefect: Erosion Corrosion\\n-----------\\n\\nresponse\\n-----------\\n1. Visual Properties: Erosion corrosion on copper appears as irregular grooves, waves, or valleys across the surface. The eroded areas are typically darker due to oxidation and have a rougher texture than the surrounding copper. The surface may also have a matte appearance rather than the typical shiny finish of untreated copper.\\n\\n2. Texture Recommendations: Use a rough, irregular texture with darkened gro', 'prompt\\n-----------\\nMaterial: Rubber\\nDefect: Cracks\\n-----------\\n\\nresponse\\n-----------\\n1. Visual Properties: Cracks in rubber appear as thin, jagged lines that can cover parts or the entirety of the surface. The cracked areas are rough to the touch and can cause the rubber to lose its elasticity. The cracks can be straight or branching, and vary in length and depth.\\n\\n2. Texture Recommendations: Use a thin, rough texture to simulate the cracks. The texture should be a darker shade', 'prompt\\n-----------\\nMaterial: Concrete\\nDefect: Cracks\\n-----------\\n\\nresponse\\n-----------\\n1. Visual Properties: Cracks in concrete can vary significantly in size and shape. They can be fine, hairline cracks that are barely visible, or larger, more noticeable cracks. Cracks often have a jagged, irregular pattern and can extend deep into the material. Cracked areas may show signs of weathering or discoloration.\\n\\n2. Texture Recommendations: Use a combination of smooth and jagged textures', 'prompt\\n-----------\\nMaterial: Aluminum\\nDefect: Oxidation\\n-----------\\n\\nresponse\\n-----------\\n1. Visual Properties: Oxidation on aluminum appears as a whitish, powdery deposit that can cover large areas of the material. The oxidized areas are rough and uneven, with the oxidation often forming in patches that can flake off. In advanced stages, oxidation can cause pitting and structural weakness in the aluminum.\\n\\n2. Texture Recommendations: Use a rough, powdery texture to simulate', 'prompt\\n-----------\\nMaterial: Cast Iron\\nDefect: Cracking\\n-----------\\n\\nresponse\\n-----------\\n1. Visual Properties: Cracks in cast iron can appear as thin, irregular lines or as larger, more noticeable fractures. The cracked areas may have a jagged, rough texture and can extend deep into the material. The cracks can cause significant changes in the smooth, dark surface of untreated cast iron.\\n\\n2. Texture Recommendations: Use a combination of smooth and jagged textures to simulate the cracks. The texture', 'prompt\\n-----------\\nMaterial: Aluminum\\nDefect: Oxidation\\n-----------\\n\\nresponse\\n-----------\\n1. Visual Properties: Oxidation on aluminum appears as a dull, white, powdery deposit that can cover parts or the entirety of the surface. The oxidized areas are generally rough to the touch and can cause a significant contrast with the shiny, metallic color of untreated aluminum.\\n\\n2. Texture Recommendations: Use a rough, powdery texture with a dull, white color to simulate the oxidation.', 'prompt\\n-----------\\nMaterial: Steel\\nDefect: Rust\\n-----------\\n\\nresponse\\n-----------\\n1. Visual Properties: Rust on steel appears as reddish-brown, flaky deposits that can cover large areas of the material. The rusted areas are rough and scaly, with the rust often forming in layers that can flake off. In advanced stages, rust can cause pitting and structural weakness in the steel.\\n\\n2. Texture Recommendations: Use a rough, flaky texture with a reddish-brown', 'prompt\\n-----------\\nMaterial: Steel\\nDefect: Scratches\\n-----------\\n\\nresponse\\n-----------\\n1. Visual Properties: Scratches on steel appear as thin, straight or curved lines that disrupt the smooth, shiny surface of the material. The scratched areas are rough to the touch and can cause a significant contrast with the surrounding area. The scratches can vary in length, depth, and direction.\\n\\n2. Texture Recommendations: Use a thin, rough texture to simulate the scratches. The texture should be a darker shade than', 'prompt\\n-----------\\nMaterial: Wood\\nDefect: Rot\\n-----------\\n\\nresponse\\n-----------\\n1. Visual Properties: Wood rot appears as discolored, soft, and crumbly areas on the wood surface. The rotted areas are generally dark brown to black in color and may be accompanied by a musty smell. The wood may also appear hollowed out in places where the rot has eaten away the interior.\\n\\n2. Texture Recommendations: Use a soft, crumbly texture with a dark brown', \"prompt\\n-----------\\nMaterial: Ceramic\\nDefect: Chipping\\n-----------\\n\\nresponse\\n-----------\\n1. Visual Properties: Chipping in ceramic appears as small, irregular areas where the ceramic has been removed, revealing the rough, often discolored material beneath. These chips can vary in size and depth, and are typically sharp and rough.\\n\\n2. Texture Recommendations: Use a sharp, rough texture for the chipped areas, with a color that matches the material beneath the ceramic's surface. The texture should be\", 'prompt\\n-----------\\nMaterial: Cast Iron\\nDefect: Rusting\\n-----------\\n\\nresponse\\n-----------\\n1. Visual Properties: Rust on cast iron appears as reddish-brown, flaky patches that can cover parts or the entire surface of the component. The rusted areas are rough to the touch and can cause pitting and structural weakness in the material. In advanced stages, the rust can cause holes or missing sections of the cast iron.\\n\\n2. Texture Recommendations: Use a rough, flaky texture with', 'prompt\\n-----------\\nMaterial: Copper\\nDefect: Patina\\n-----------\\n\\nresponse\\n-----------\\n1. Visual Properties: The patina on copper appears as a greenish-blue, uneven layer covering parts or the entirety of the surface. This layer is quite smooth and has a dull, matte finish. It forms patterns that are irregular but generally follow the shape of the object.\\n\\n2. Texture Recommendations: Use a smooth, matte texture with a greenish-blue color to simulate the patina. The texture should be', 'prompt\\n-----------\\nMaterial: Bronze\\nDefect: Patina\\n-----------\\n\\nresponse\\n-----------\\n1. Visual Properties: The patina on bronze appears as a greenish-blue, uneven layer covering parts or the entirety of the surface. This layer is quite smooth and has a dull, matte finish. It forms patterns that are irregular but generally follow the shape of the object.\\n\\n2. Texture Recommendations: Use a smooth, matte texture with a greenish-blue color to simulate the patina. The texture should be', 'prompt\\n-----------\\nMaterial: Steel\\nDefect: Corrosion\\n-----------\\n\\nresponse\\n-----------\\n1. Visual Properties: Corrosion on steel appears as reddish-brown, rough patches that can cover parts or the entirety of the surface. The corroded areas are generally rough and uneven, causing pitting or flaking of the steel surface. The corrosion can cause significant discoloration, turning the shiny, silver color of steel into a reddish-brown hue.\\n\\n2. Texture Recommendations: Use', 'prompt\\n-----------\\nMaterial: Steel\\nDefect: Fatigue Cracks\\n-----------\\n\\nresponse\\n-----------\\n1. Visual Properties: Fatigue cracks in steel appear as thin, sharp lines that can spread across the surface. The cracked areas are generally rough and uneven, with visible signs of stress and distortion around the cracks. The cracks can branch out and form complex patterns, and may cause structural weakness in the steel.\\n\\n2. Texture Recommendations: Use a sharp, uneven texture to simulate the fatigue cracks. The texture', 'prompt\\n-----------\\nMaterial: Aluminum\\nDefect: Oxidation\\n-----------\\n\\nresponse\\n-----------\\n1. Visual Properties: Oxidation on aluminum appears as a dull, whitish or grayish layer that can cover parts or the entirety of the surface. The oxidized areas are smooth to the touch and can cause a loss of the original luster of the aluminum. In advanced stages, the oxidation can cause pitting and structural weakness in the aluminum.\\n\\n2. Texture Recommendations: Use a smooth, dull', 'prompt\\n-----------\\nMaterial: Aluminum\\nDefect: Corrosion\\n-----------\\n\\nresponse\\n-----------\\n1. Visual Properties: Corrosion on aluminum appears as white, powdery deposits that can cover parts or the entirety of the surface. The corroded areas are generally rough and can cause pitting or flaking of the aluminum surface. The white deposits can cause a significant contrast with the shiny, silver color of untreated aluminum.\\n\\n2. Texture Recommendations: Use a rough, pitted texture with white coloring', 'prompt\\n-----------\\nMaterial: Plastic\\nDefect: Cracks\\n-----------\\n\\nresponse\\n-----------\\n1. Visual Properties: Cracks in plastic appear as thin, irregular lines that can cover parts or the entirety of the surface. The cracked areas are generally rough and can cause significant changes in the smooth surface of untreated plastic. The cracks can be straight, branched, or web-like, and they vary in length and depth.\\n\\n2. Texture Recommendations: Use a rough, irregular line texture to simulate the cracks.', 'prompt\\n-----------\\nMaterial: Copper\\nDefect: Oxidation\\n-----------\\n\\nresponse\\n-----------\\n1. Visual Properties: Oxidation on copper appears as a green, powdery deposit that can cover large areas of the material. The oxidized areas are rough and uneven, with the oxidation often forming in layers that can flake off. In advanced stages, oxidation can cause pitting and structural weakness in the copper.\\n\\n2. Texture Recommendations: Use a rough, layered texture with a green color to', 'prompt\\n-----------\\nMaterial: Steel\\nDefect: Rust\\n-----------\\n\\nresponse\\n-----------\\n1. Visual Properties: Rust on steel appears as a rough, red-brown layer that can cover parts or the entirety of the surface. The rusted areas are flaky and can cause pitting or holes in the steel. The rust can cause significant discoloration, turning the shiny, metallic color of steel into a dull, reddish hue.\\n\\n2. Texture Recommendations: Use a rough, flaky texture with', 'prompt\\n-----------\\nMaterial: Copper\\nDefect: Tarnish\\n-----------\\n\\nresponse\\n-----------\\n1. Visual Properties: Tarnish on copper appears as a dull, black or dark brown layer that can cover parts or the entirety of the surface. The tarnished areas are generally smooth but can appear uneven and patchy. The tarnish can cause significant discoloration, turning the bright reddish-brown color of copper into a darker hue.\\n\\n2. Texture Recommendations: Use a smooth, dull texture', 'prompt\\n-----------\\nMaterial: Copper\\nDefect: Patina\\n-----------\\n\\nresponse\\n-----------\\n1. Visual Properties: Patina on copper appears as a greenish-blue, uneven layer that can cover parts or the entirety of the surface. The patina areas are generally smooth but can appear mottled and uneven. The patina can cause significant color change, turning the reddish-brown color of copper into a greenish-blue hue.\\n\\n2. Texture Recommendations: Use a smooth, mottled texture', 'prompt\\n-----------\\nMaterial: Aluminum\\nDefect: Oxidation\\n-----------\\n\\nresponse\\n-----------\\n1. Visual Properties: Oxidation on aluminum appears as a dull, white or gray layer that can cover parts or the entirety of the surface. The oxidized areas are generally smooth but can appear uneven and patchy. The oxidation can cause significant discoloration, turning the bright silvery color of aluminum into a duller hue.\\n\\n2. Texture Recommendations: Use a smooth, dull texture with a white', 'prompt\\n-----------\\nMaterial: Concrete\\nDefect: Cracking\\n-----------\\n\\nresponse\\n-----------\\n1. Visual Properties: Cracks in concrete appear as thin, irregular lines that can cover parts or the entirety of the surface. The cracked areas are generally rough and can cause significant changes in the smooth surface of untreated concrete. The cracks can be straight, branched, or web-like, and they vary in length and depth.\\n\\n2. Texture Recommendations: Use a rough, irregular line texture to simulate the cracks.', 'prompt\\n-----------\\nMaterial: Brass\\nDefect: Tarnishing\\n-----------\\n\\nresponse\\n-----------\\n1. Visual Properties: Tarnishing on brass appears as a dull, dark layer, often black or green, that can cover parts or the entirety of the surface. The tarnished areas are generally smooth but can appear uneven and patchy. The tarnish can cause significant discoloration, turning the bright golden color of brass into a darker hue.\\n\\n2. Texture Recommendations: Use a smooth, dull texture', 'prompt\\n-----------\\nMaterial: Copper\\nDefect: Green Patina\\n-----------\\n\\nresponse\\n-----------\\n1. Visual Properties: Green patina on copper, also known as verdigris, appears as a bright, bluish-green deposit that can cover parts or the entirety of the surface. The patina is typically uneven and patchy, with a rough texture and a matte finish.\\n\\n2. Texture Recommendations: Use a rough, uneven texture with a bright, bluish-green color to simulate the patina.', 'prompt\\n-----------\\nMaterial: Plastic\\nDefect: Discoloration\\n-----------\\n\\nresponse\\n-----------\\n1. Visual Properties: Discoloration in plastic appears as uneven patches of color that differ from the original hue of the material. The discolored areas can vary in size and shape, and can cause the plastic to appear aged or degraded. The discoloration can be due to exposure to sunlight, heat, or chemical reactions.\\n\\n2. Texture Recommendations: Use a patchy, uneven texture to simulate the', 'prompt\\n-----------\\nMaterial: Iron\\nDefect: Rust\\n-----------\\n\\nresponse\\n-----------\\n1. Visual Properties: Rust on iron appears as a reddish-brown flaky deposit that can cover parts or the entirety of the surface. The rusted areas are generally rough and pitted, with the rust often forming in layers that can peel off. The color can vary from bright orange to dark brown, depending on the severity of the rust.\\n\\n2. Texture Recommendations: Use a rough, flaky texture with', 'prompt\\n-----------\\nMaterial: Copper\\nDefect: Dents\\n-----------\\n\\nresponse\\n-----------\\n1. Visual Properties: Dents on copper appear as depressions or indentations on the surface that disrupt the smooth, shiny surface of the material. The dented areas are smooth to the touch but can cause a significant contrast with the surrounding area. The dents can vary in size, depth, and shape.\\n\\n2. Texture Recommendations: Use a smooth, indented texture to simulate the dents. The texture', 'prompt\\n-----------\\nMaterial: Glass\\nDefect: Scratches\\n-----------\\n\\nresponse\\n-----------\\n1. Visual Properties: Scratches on glass appear as thin, irregular lines that can cover parts or the entirety of the surface. The scratched areas are rough to the touch and can cause a hazy appearance when light passes through. The scratches can be straight or branched, and vary in length and depth.\\n\\n2. Texture Recommendations: Use a fine-lined texture to simulate the scratches. The texture should be applied in', 'prompt\\n-----------\\nMaterial: Ceramic\\nDefect: Chipping\\n-----------\\n\\nresponse\\n-----------\\n1. Visual Properties: Chipping in ceramics appears as small to large pieces missing from the surface, revealing the inner material which can be a contrasting color to the glazed surface. The chipped areas are generally rough and uneven, with sharp edges where the material has broken off.\\n\\n2. Texture Recommendations: Use a rough texture with sharp edges to simulate the chips. The texture should be a contrasting color to the rest of', \"prompt\\n-----------\\nMaterial: Plastic\\nDefect: Warping\\n-----------\\n\\nresponse\\n-----------\\n1. Visual Properties: Warping in plastic appears as distortions or deformations in the material's shape, causing it to deviate from its original form. The warped areas can be smooth or rough, depending on the severity of the warp. The distortions can be localized or affect the entire piece.\\n\\n2. Texture Recommendations: Use a distorted texture to simulate the warping. The texture should be applied in a\", 'prompt\\n-----------\\nMaterial: Copper\\nDefect: Patina\\n-----------\\n\\nresponse\\n-----------\\n1. Visual Properties: Patina on copper appears as a green, turquoise, or blue layer that forms on the surface. The patina areas are generally smooth but can appear uneven and patchy. The patina can cause significant discoloration, turning the bright reddish-brown color of copper into a greenish-blue hue.\\n\\n2. Texture Recommendations: Use a smooth, uneven texture with a greenish-blue', 'prompt\\n-----------\\nMaterial: Glass\\nDefect: Scratches\\n-----------\\n\\nresponse\\n-----------\\n1. Visual Properties: Scratches on glass appear as thin, straight or curved lines that disrupt the smooth, clear surface of the material. The scratched areas are rough to the touch and can cause a significant contrast with the surrounding area. The scratches can vary in length, depth, and direction.\\n\\n2. Texture Recommendations: Use a thin, rough texture to simulate the scratches. The texture should be a darker shade than', 'prompt\\n-----------\\nMaterial: Plastic\\nDefect: Warping\\n-----------\\n\\nresponse\\n-----------\\n1. Visual Properties: Warping in plastic appears as distorted, twisted, or bent areas that deviate from the original shape of the material. The warped areas can cause the plastic to lose its original form and may affect its functionality. The warping can occur in any part of the plastic, and the severity can vary.\\n\\n2. Texture Recommendations: Use a distorted texture to simulate the warping. The texture should', 'prompt\\n-----------\\nMaterial: Wood\\nDefect: Termites damage\\n-----------\\n\\nresponse\\n-----------\\n1. Visual Properties: Termite damage in wood appears as a network of tunnels or galleries that can cover parts or the entirety of the wooden component. The damaged areas are rough to the touch and can cause significant structural weakness. In advanced stages, the damage can lead to large holes or missing sections of the wood.\\n\\n2. Texture Recommendations: Use a rough, uneven texture to simulate the termite damage. The', 'prompt\\n-----------\\nMaterial: Copper\\nDefect: Corrosion\\n-----------\\n\\nresponse\\n-----------\\n1. Visual Properties: Corrosion on copper appears as a greenish-blue, powdery deposit that can cover large areas of the material. The corroded areas are rough and uneven, with the corrosion often forming in patches that can flake off. In advanced stages, corrosion can cause pitting and structural weakness in the copper.\\n\\n2. Texture Recommendations: Use a rough, powdery texture to', 'prompt\\n-----------\\nMaterial: Aluminum\\nDefect: Oxidation\\n-----------\\n\\nresponse\\n-----------\\n1. Visual Properties: Oxidation on aluminum appears as a dull, white, powdery deposit that can cover large areas of the material. The oxidized areas are rough and uneven, with the oxidation often forming in layers that can flake off. In advanced stages, oxidation can cause pitting and structural weakness in the aluminum.\\n\\n2. Texture Recommendations: Use a rough, layered texture with a white', 'prompt\\n-----------\\nMaterial: Iron\\nDefect: Rust\\n-----------\\n\\nresponse\\n-----------\\n1. Visual Properties: Rust on iron appears as a reddish-brown, flaky layer covering parts or the entirety of the surface. The rusted areas are rough and can cause pitting or flaking of the iron surface. The rust can cause a significant contrast with the dark, grey color of untreated iron.\\n\\n2. Texture Recommendations: Use a rough, pitted texture with a reddish-brown color to', 'prompt\\n-----------\\nMaterial: Steel\\nDefect: Corrosion\\n-----------\\n\\nresponse\\n-----------\\n1. Visual Properties: Corrosion on steel appears as reddish-brown flaky deposits on the surface. These areas are rough to the touch and can cause pitting or holes in severe cases. The corrosion can cover the entire surface or be localized to certain areas.\\n\\n2. Texture Recommendations: Use a rough, flaky texture with a reddish-brown color to simulate the corrosion. The texture should', 'prompt\\n-----------\\nMaterial: Iron\\nDefect: Corrosion\\n-----------\\n\\nresponse\\n-----------\\n1. Visual Properties: Corrosion in iron appears as a reddish-brown, flaky layer that can cover large areas of the material. The corroded areas are rough and can cause pitting or flaking of the iron surface. The corrosion can cause a significant contrast with the dark, grey color of untreated iron.\\n\\n2. Texture Recommendations: Use a rough, pitted texture with a reddish', 'prompt\\n-----------\\nMaterial: Wood\\nDefect: Dry Rot\\n-----------\\n\\nresponse\\n-----------\\n1. Visual Properties: Dry rot on wood appears as a brown, crumbly area that can cover parts or the entirety of the wood surface. The affected areas are generally soft and can cause the wood to appear aged or degraded. The rot can cause significant changes in the texture and color of the wood, turning it from a solid, firm material into a soft, crumbly one.\\n\\n2. Texture Recommendations', 'prompt\\n-----------\\nMaterial: Glass\\nDefect: Scratching\\n-----------\\n\\nresponse\\n-----------\\n1. Visual Properties: Scratches on glass appear as thin, white lines that can cover parts or the entirety of the surface. The scratched areas are generally rough to the touch and can cause a significant contrast with the smooth, clear appearance of untreated glass.\\n\\n2. Texture Recommendations: Use a rough, linear texture with a white color to simulate the scratches. The', 'prompt\\n-----------\\nMaterial: Copper\\nDefect: Tarnish\\n-----------\\n\\nresponse\\n-----------\\n1. Visual Properties: Tarnish on copper appears as a dull, darkened surface that can range from brown to greenish-blue. The tarnished areas are smooth but lack the shiny luster of untreated copper. The tarnish can form in patches or cover the entire surface.\\n\\n2. Texture Recommendations: Use a smooth, dull texture with a color that matches the tarnish to simulate the defect. The', 'prompt\\n-----------\\nMaterial: Glass\\nDefect: Cracks\\n-----------\\n\\nresponse\\n-----------\\n1. Visual Properties: Cracks in glass appear as thin, jagged lines that can cover parts or the entirety of the surface. The cracked areas are rough to the touch and can cause distortions when looking through the glass. The cracks can be straight or branching, and vary in length and depth.\\n\\n2. Texture Recommendations: Use a thin, rough texture to simulate the cracks. The texture should be a darker', 'prompt\\n-----------\\nMaterial: Plastic\\nDefect: Discoloration\\n-----------\\n\\nresponse\\n-----------\\n1. Visual Properties: Discoloration in plastic appears as uneven patches of color that can cover parts or the entirety of the surface. The discolored areas can vary in hue, saturation, and brightness compared to the original color of the plastic. The texture of the discolored areas is generally the same as the rest of the plastic, but can appear duller or more matte.\\n\\n2. Texture Recommendations', 'prompt\\n-----------\\nMaterial: Steel\\nDefect: Corrosion\\n-----------\\n\\nresponse\\n-----------\\n1. Visual Properties: Corrosion in steel appears as reddish-brown, rough areas that can cover parts or the entirety of the surface. The corroded areas are generally rough and can cause pitting or flaking of the steel surface. The rust can cause a significant contrast with the shiny, gray color of untreated steel.\\n\\n2. Texture Recommendations: Use a rough, reddish-brown texture to', 'prompt\\n-----------\\nMaterial: Concrete\\nDefect: Cracks\\n-----------\\n\\nresponse\\n-----------\\n1. Visual Properties: Cracks in concrete appear as thin, irregular lines that can cover parts or the entirety of the surface. The cracked areas are rough to the touch and can cause a significant contrast with the surrounding smooth area. The cracks can be straight or branched, and vary in length and depth.\\n\\n2. Texture Recommendations: Use a rough, lined texture to simulate the cracks. The texture should be a', 'prompt\\n-----------\\nMaterial: Steel\\nDefect: Corrosion\\n-----------\\n\\nresponse\\n-----------\\n1. Visual Properties: Corrosion on steel appears as a reddish-brown, uneven layer that can cover large areas of the material. The corroded areas are rough and uneven, with the corrosion often forming in patches that can flake off. In advanced stages, corrosion can cause pitting and structural weakness in the steel.\\n\\n2. Texture Recommendations: Use a rough, uneven texture with a reddish', 'prompt\\n-----------\\nMaterial: Plastic\\nDefect: Warping\\n-----------\\n\\nresponse\\n-----------\\n1. Visual Properties: Warping in plastic appears as a distortion or deformation of the originally smooth and straight surface. The warped areas may have a wavy or bent shape, and can cause significant changes in the structure of the plastic component. The severity of the warping can vary, from slight bends to severe distortions.\\n\\n2. Texture Recommendations: Use a wavy, distorted texture to simulate the warping.', 'prompt\\n-----------\\nMaterial: Wood\\nDefect: Dry rot\\n-----------\\n\\nresponse\\n-----------\\n1. Visual Properties: Dry rot on wood appears as a brown, crumbly area that can be easily broken or crumbled by hand. The affected areas are often lighter in color than the surrounding wood, and can be accompanied by a musty smell. In advanced stages, dry rot can cause structural weakness in the wood.\\n\\n2. Texture Recommendations: Use a crumbly, porous texture with a light brown', 'prompt\\n-----------\\nMaterial: Iron\\nDefect: Rust\\n-----------\\n\\nresponse\\n-----------\\n1. Visual Properties: Rust on iron appears as a reddish-brown, flaky layer that can cover large areas of the material. The rusted areas are rough and can cause pitting or flaking of the iron surface. The rust can cause a significant contrast with the dark, grey color of untreated iron.\\n\\n2. Texture Recommendations: Use a rough, pitted texture with a reddish-brown color to', 'prompt\\n-----------\\nMaterial: Steel\\nDefect: Corrosion\\n-----------\\n\\nresponse\\n-----------\\n1. Visual Properties: Corrosion on steel appears as reddish-brown, flaky patches that can cover parts or the entire surface of the component. The corroded areas are rough to the touch and can cause pitting and structural weakness in the material. In advanced stages, the corrosion can cause holes or missing sections of the steel.\\n\\n2. Texture Recommendations: Use a rough, flaky texture with', 'prompt\\n-----------\\nMaterial: Copper\\nDefect: Patina\\n-----------\\n\\nresponse\\n-----------\\n1. Visual Properties: Patina on copper appears as a green or blue-green layer that can cover parts or the entirety of the surface. The patina can appear uneven and patchy, with varying shades of green. The patina can cause significant discoloration, turning the bright reddish-brown color of copper into a greenish hue.\\n\\n2. Texture Recommendations: Use a smooth, uneven texture with a', 'prompt\\n-----------\\nMaterial: Aluminum\\nDefect: Corrosion\\n-----------\\n\\nresponse\\n-----------\\n1. Visual Properties: Corrosion on aluminum appears as a rough, white or gray layer that can cover parts or the entirety of the surface. The corroded areas are generally uneven and pitted, and can cause significant discoloration, turning the bright silvery color of aluminum into a duller hue.\\n\\n2. Texture Recommendations: Use a rough, pitted texture with a white or gray color to', 'prompt\\n-----------\\nMaterial: Steel\\nDefect: Fatigue Cracks\\n-----------\\n\\nresponse\\n-----------\\n1. Visual Properties: Fatigue cracks in steel appear as thin, branching cracks that originate from stress points and can cover large areas of the material. The cracked areas are rough and uneven, with the cracks often forming in a spiderweb pattern. The cracks can vary in length and depth, and can cause significant structural weakness in the steel.\\n\\n2. Texture Recommendations: Use a rough, cracked texture to simulate', 'prompt\\n-----------\\nMaterial: Steel\\nDefect: Pitting Corrosion\\n-----------\\n\\nresponse\\n-----------\\n1. Visual Properties: Pitting corrosion in steel appears as small, deep holes or pits in the surface of the material. The pits can be isolated or clustered, and can vary in size and depth. The pitted areas are generally rough and can cause a loss of the smooth, shiny surface of untreated steel.\\n\\n2. Texture Recommendations: Use a rough, holey texture to simulate the pitting', 'prompt\\n-----------\\nMaterial: Steel\\nDefect: Corrosion\\n-----------\\n\\nresponse\\n-----------\\n1. Visual Properties: Corrosion on steel appears as a brownish-red, rough layer that can cover parts or the entirety of the surface. The corroded areas are generally uneven and can cause pitting or flaking of the steel surface. The corrosion can cause a significant contrast with the shiny, metallic color of untreated steel.\\n\\n2. Texture Recommendations: Use a rough, pitted texture with a brown', 'prompt\\n-----------\\nMaterial: Aluminum\\nDefect: Oxidation\\n-----------\\n\\nresponse\\n-----------\\n1. Visual Properties: Oxidation on aluminum appears as a dull, white, powdery deposit that can cover parts or the entirety of the surface. The oxidized areas are generally rough and can cause pitting or flaking of the aluminum surface. The oxidation can cause significant discoloration, turning the shiny metallic color of aluminum into a dull, whitish hue.\\n\\n2. Texture Recommendations: Use', 'prompt\\n-----------\\nMaterial: Steel\\nDefect: Corrosion\\n-----------\\n\\nresponse\\n-----------\\n1. Visual Properties: Corrosion on steel appears as a rough, uneven layer that can cover parts or the entirety of the surface. The corroded areas are pitted and can cause discoloration, turning the shiny, metallic color of steel into a dull, brownish hue.\\n\\n2. Texture Recommendations: Use a rough, pitted texture with a dull, brownish color to simulate the corrosion.', 'prompt\\n-----------\\nMaterial: Ceramic\\nDefect: Chipping\\n-----------\\n\\nresponse\\n-----------\\n1. Visual Properties: Chipping on ceramic appears as small to large pieces missing from the surface. The chipped areas reveal the inner layer of the ceramic, which can be a different color from the outer layer. The edges of the chipped areas are often sharp and uneven.\\n\\n2. Texture Recommendations: Use a sharp, uneven texture to simulate the chipping. The texture should reveal the inner layer of the ceramic', 'prompt\\n-----------\\nMaterial: Copper\\nDefect: Tarnishing\\n-----------\\n\\nresponse\\n-----------\\n1. Visual Properties: Tarnishing on copper appears as a dull, greenish-blue layer that can cover parts or the entirety of the surface. The tarnished areas are smooth to the touch but can appear uneven and patchy. Over time, the tarnishing can cause the copper to lose its shiny, reddish color.\\n\\n2. Texture Recommendations: Use a smooth, greenish-blue texture to simulate the', 'prompt\\n-----------\\nMaterial: Concrete\\nDefect: Cracking\\n-----------\\n\\nresponse\\n-----------\\n1. Visual Properties: Cracks in concrete appear as thin, branching lines that can cover large areas of the material. The cracked areas are rough and uneven, with the cracks often forming in a spiderweb pattern. The cracks can vary in length and depth and can cause significant structural weakness in the concrete.\\n\\n2. Texture Recommendations: Use a rough, cracked texture to simulate the cracks. The texture should be applied in']\n"
          ]
        }
      ]
    },
    {
      "cell_type": "markdown",
      "source": [
        "\n",
        "This code cell defines a function generate_system_message that creates a system message for model inference based on a given prompt. The function utilizes the OpenAI ChatCompletion.create method with the GPT-4 model, sending a system message that guides the user on how to construct a simple and concise system prompt for the model. The function then captures the user's prompt, processes it, and returns the model's generated system message. Finally, it prints the generated system message, inviting users to rerun the cell for potentially improved outcomes.\n",
        "\n",
        "Key Points:\n",
        "Function Purpose: To generate a system message for model inference.\n",
        "Model Used: GPT-4, leveraging OpenAI's Chat Completion.\n",
        "Input: User-provided prompt.\n",
        "Output: Generated system message based on the user's prompt.\n",
        "Usage: Helpful for dynamically creating system prompts for specific model inference tasks."
      ],
      "metadata": {
        "id": "KC6iJzXjugJ-"
      }
    },
    {
      "cell_type": "code",
      "source": [
        "def generate_system_message(prompt):\n",
        "\n",
        "    response = openai.ChatCompletion.create(\n",
        "        model=\"gpt-4\",\n",
        "        messages=[\n",
        "          {\n",
        "            \"role\": \"system\",\n",
        "            \"content\": \"You will be given a high-level description of the model we are training, and from that, you will generate a simple system prompt for that model to use. Remember, you are not generating the system message for data generation -- you are generating the system message to use for inference. A good format to follow is `Given $INPUT_DATA, you will $WHAT_THE_MODEL_SHOULD_DO.`.\\n\\nMake it as concise as possible. Include nothing but the system prompt in your response.\\n\\nFor example, never write: `\\\"$SYSTEM_PROMPT_HERE\\\"`.\\n\\nIt should be like: `$SYSTEM_PROMPT_HERE`.\"\n",
        "          },\n",
        "          {\n",
        "              \"role\": \"user\",\n",
        "              \"content\": prompt.strip(),\n",
        "          }\n",
        "        ],\n",
        "        temperature=temperature,\n",
        "        max_tokens=500,\n",
        "    )\n",
        "\n",
        "    return response.choices[0].message['content']\n",
        "\n",
        "system_message = generate_system_message(prompt)\n",
        "\n",
        "print(f'The system message is: `{system_message}`. Feel free to re-run this cell if you want a better result.')"
      ],
      "metadata": {
        "id": "xMcfhW6Guh2E",
        "outputId": "47521dd8-6382-4df1-87e8-6777ca18b1c6",
        "colab": {
          "base_uri": "https://localhost:8080/"
        }
      },
      "execution_count": null,
      "outputs": [
        {
          "output_type": "stream",
          "name": "stdout",
          "text": [
            "The system message is: `Given the material of a railway component and its defect description, provide detailed visual properties of the defect, recommend textures for accurately simulating the defect in a 3D modeling environment, and suggest necessary changes in parameters or attributes in the 3D model to accurately reflect the defect.`. Feel free to re-run this cell if you want a better result.\n"
          ]
        }
      ]
    },
    {
      "cell_type": "markdown",
      "source": [
        "Now let's put our examples into a dataframe and turn them into a final pair of datasets."
      ],
      "metadata": {
        "id": "G6BqZ-hjseBF"
      }
    },
    {
      "cell_type": "code",
      "source": [
        "import json\n",
        "import pandas as pd\n",
        "\n",
        "# Initialize lists to store prompts and responses\n",
        "prompts = []\n",
        "responses = []\n",
        "\n",
        "# Parse out prompts and responses from examples\n",
        "for example in prev_examples:\n",
        "  try:\n",
        "    split_example = example.split('-----------')\n",
        "    prompts.append(split_example[1].strip())\n",
        "    responses.append(split_example[3].strip())\n",
        "  except:\n",
        "    pass\n",
        "\n",
        "# Create a DataFrame\n",
        "df = pd.DataFrame({\n",
        "    'prompt': prompts,\n",
        "    'response': responses\n",
        "})\n",
        "\n",
        "# Remove duplicates\n",
        "df = df.drop_duplicates()\n",
        "\n",
        "print('There are ' + str(len(df)) + ' successfully-generated examples.')\n",
        "\n",
        "# Initialize list to store training examples\n",
        "training_examples = []\n",
        "\n",
        "# Create training examples in the format required for GPT-3.5 fine-tuning\n",
        "for index, row in df.iterrows():\n",
        "    training_example = {\n",
        "        \"messages\": [\n",
        "            {\"role\": \"system\", \"content\": system_message.strip()},\n",
        "            {\"role\": \"user\", \"content\": row['prompt']},\n",
        "            {\"role\": \"assistant\", \"content\": row['response']}\n",
        "        ]\n",
        "    }\n",
        "    training_examples.append(training_example)\n",
        "\n",
        "# Save training examples to a .jsonl file\n",
        "with open('training_examples.jsonl', 'w') as f:\n",
        "    for example in training_examples:\n",
        "        f.write(json.dumps(example) + '\\n')"
      ],
      "metadata": {
        "id": "7CEdkYeRsdmB",
        "outputId": "5f5ba205-827a-431d-ca7b-ec6fd82966a5",
        "colab": {
          "base_uri": "https://localhost:8080/"
        }
      },
      "execution_count": null,
      "outputs": [
        {
          "output_type": "stream",
          "name": "stdout",
          "text": [
            "There are 98 successfully-generated examples.\n"
          ]
        }
      ]
    },
    {
      "cell_type": "markdown",
      "source": [
        "# Upload the file to OpenAI"
      ],
      "metadata": {
        "id": "KWTY6qVgXD_T"
      }
    },
    {
      "cell_type": "code",
      "source": [
        "file_id = openai.File.create(\n",
        "  file=open(\"/content/training_examples.jsonl\", \"rb\"),\n",
        "  purpose='fine-tune'\n",
        ").id"
      ],
      "metadata": {
        "id": "4LjEUrI9XDgT"
      },
      "execution_count": null,
      "outputs": []
    },
    {
      "cell_type": "markdown",
      "source": [
        "# Train the model! You may need to wait a few minutes before running the next cell to allow for the file to process on OpenAI's servers."
      ],
      "metadata": {
        "id": "HmYRIq8dW9IR"
      }
    },
    {
      "cell_type": "code",
      "source": [
        "job = openai.FineTuningJob.create(training_file=file_id, model=\"gpt-3.5-turbo\")\n",
        "\n",
        "job_id = job.id"
      ],
      "metadata": {
        "id": "rdEyXmkoW80I"
      },
      "execution_count": null,
      "outputs": []
    },
    {
      "cell_type": "markdown",
      "source": [
        "# Now, just wait until the fine-tuning run is done, and you'll have a ready-to-use model!\n",
        "\n",
        "Run this cell every 20 minutes or so -- eventually, you'll see a message \"New fine-tuned model created: ft:gpt-3.5-turbo-0613:xxxxxxxxxxxx\"\n",
        "\n",
        "Once you see that message, you can go to the OpenAI Playground (or keep going to the next cells and use the API) to try the model!"
      ],
      "metadata": {
        "id": "XUSX5QzmZMTd"
      }
    },
    {
      "cell_type": "code",
      "source": [
        "openai.FineTuningJob.list_events(id=job_id, limit=5)"
      ],
      "metadata": {
        "id": "45DJZ7hHaBx0",
        "outputId": "3e3581fb-605b-4232-fa36-6d8bc92f4c4c",
        "colab": {
          "base_uri": "https://localhost:8080/"
        }
      },
      "execution_count": null,
      "outputs": [
        {
          "output_type": "execute_result",
          "data": {
            "text/plain": [
              "<OpenAIObject list at 0x7b2046a58d10> JSON: {\n",
              "  \"object\": \"list\",\n",
              "  \"data\": [\n",
              "    {\n",
              "      \"object\": \"fine_tuning.job.event\",\n",
              "      \"id\": \"ftevent-ith1WsjbWELhbCUmMIYG1dYj\",\n",
              "      \"created_at\": 1711101454,\n",
              "      \"level\": \"info\",\n",
              "      \"message\": \"The job has successfully completed\",\n",
              "      \"data\": {},\n",
              "      \"type\": \"message\"\n",
              "    },\n",
              "    {\n",
              "      \"object\": \"fine_tuning.job.event\",\n",
              "      \"id\": \"ftevent-xww6wu00pZWJrmY4Y0dlbgXv\",\n",
              "      \"created_at\": 1711101451,\n",
              "      \"level\": \"info\",\n",
              "      \"message\": \"New fine-tuned model created: ft:gpt-3.5-turbo-0125:personal::95VwRTeM\",\n",
              "      \"data\": {},\n",
              "      \"type\": \"message\"\n",
              "    },\n",
              "    {\n",
              "      \"object\": \"fine_tuning.job.event\",\n",
              "      \"id\": \"ftevent-Bo67QfOgxUcPTEchs30RKqFw\",\n",
              "      \"created_at\": 1711101430,\n",
              "      \"level\": \"info\",\n",
              "      \"message\": \"Step 141/150: training loss=0.31\",\n",
              "      \"data\": {\n",
              "        \"step\": 141,\n",
              "        \"train_loss\": 0.30675598978996277,\n",
              "        \"total_steps\": 150,\n",
              "        \"train_mean_token_accuracy\": 0.8888888955116272\n",
              "      },\n",
              "      \"type\": \"metrics\"\n",
              "    },\n",
              "    {\n",
              "      \"object\": \"fine_tuning.job.event\",\n",
              "      \"id\": \"ftevent-SvkZa1eMJ7O5fNV82GWJvy9Q\",\n",
              "      \"created_at\": 1711101412,\n",
              "      \"level\": \"info\",\n",
              "      \"message\": \"Step 131/150: training loss=0.59\",\n",
              "      \"data\": {\n",
              "        \"step\": 131,\n",
              "        \"train_loss\": 0.5906016230583191,\n",
              "        \"total_steps\": 150,\n",
              "        \"train_mean_token_accuracy\": 0.7659574747085571\n",
              "      },\n",
              "      \"type\": \"metrics\"\n",
              "    },\n",
              "    {\n",
              "      \"object\": \"fine_tuning.job.event\",\n",
              "      \"id\": \"ftevent-eAX7tK1qbM4CKwWxh3CpJKig\",\n",
              "      \"created_at\": 1711101392,\n",
              "      \"level\": \"info\",\n",
              "      \"message\": \"Step 121/150: training loss=0.25\",\n",
              "      \"data\": {\n",
              "        \"step\": 121,\n",
              "        \"train_loss\": 0.2507849335670471,\n",
              "        \"total_steps\": 150,\n",
              "        \"train_mean_token_accuracy\": 0.9767441749572754\n",
              "      },\n",
              "      \"type\": \"metrics\"\n",
              "    }\n",
              "  ],\n",
              "  \"has_more\": true\n",
              "}"
            ]
          },
          "metadata": {},
          "execution_count": 11
        }
      ]
    },
    {
      "cell_type": "markdown",
      "source": [
        "# Once your model is trained, run the next cell to grab the fine-tuned model name."
      ],
      "metadata": {
        "id": "91ihW2O27Phl"
      }
    },
    {
      "cell_type": "code",
      "source": [
        "model_name_pre_object = openai.FineTuningJob.retrieve(job_id)\n",
        "model_name = model_name_pre_object.fine_tuned_model\n",
        "print(model_name)"
      ],
      "metadata": {
        "id": "eWBRBPh8aEzH",
        "outputId": "b35293ec-7c3d-4746-aa78-31f7e0a965f4",
        "colab": {
          "base_uri": "https://localhost:8080/"
        }
      },
      "execution_count": null,
      "outputs": [
        {
          "output_type": "stream",
          "name": "stdout",
          "text": [
            "ft:gpt-3.5-turbo-0125:personal::95VwRTeM\n"
          ]
        }
      ]
    },
    {
      "cell_type": "markdown",
      "source": [
        "# Let's try it out!"
      ],
      "metadata": {
        "id": "2OmZLoBX7oQM"
      }
    },
    {
      "cell_type": "code",
      "source": [
        "response = openai.ChatCompletion.create(\n",
        "    model=model_name,\n",
        "    messages=[\n",
        "      {\n",
        "        \"role\": \"system\",\n",
        "        \"content\": system_message,\n",
        "      },\n",
        "      {\n",
        "          \"role\": \"user\",\n",
        "          \"content\": df['prompt'].sample().values[0],\n",
        "      }\n",
        "    ],\n",
        ")\n",
        "print(df['prompt'][0])\n",
        "response.choices[0].message['content']"
      ],
      "metadata": {
        "id": "uxbrmzc5dMuC",
        "outputId": "db216fda-b8bb-49bb-9381-32ccf93e9ed8",
        "colab": {
          "base_uri": "https://localhost:8080/",
          "height": 72
        }
      },
      "execution_count": null,
      "outputs": [
        {
          "output_type": "stream",
          "name": "stdout",
          "text": [
            "Walking in a forest during autumn.\n"
          ]
        },
        {
          "output_type": "execute_result",
          "data": {
            "text/plain": [
              "'The clinking of glasses and cutlery, the chatter of customers, the sizzle from the kitchen, the occasional laughter, and the muffled music playing in the background.'"
            ],
            "application/vnd.google.colaboratory.intrinsic+json": {
              "type": "string"
            }
          },
          "metadata": {},
          "execution_count": 16
        }
      ]
    },
    {
      "cell_type": "markdown",
      "source": [],
      "metadata": {
        "id": "Iy9k6PaJolHD"
      }
    },
    {
      "cell_type": "code",
      "source": [
        "# Let's test the model on customized prompt\n",
        "customized_prompt = 'defect texture' # @param {type:\"string\"}\n",
        "\n",
        "\n",
        "response = openai.ChatCompletion.create(\n",
        "    model=model_name,\n",
        "    messages=[\n",
        "      {\n",
        "        \"role\": \"system\",\n",
        "        \"content\": system_message,\n",
        "      },\n",
        "      {\n",
        "          \"role\": \"user\",\n",
        "          \"content\": customized_prompt,\n",
        "      }\n",
        "    ],\n",
        ")\n",
        "response.choices[0].message['content']"
      ],
      "metadata": {
        "colab": {
          "base_uri": "https://localhost:8080/",
          "height": 54
        },
        "id": "B0LVtYHBn4_W",
        "outputId": "3d54027a-464c-4236-8dfc-36de3f9066da"
      },
      "execution_count": null,
      "outputs": [
        {
          "output_type": "execute_result",
          "data": {
            "text/plain": [
              "'The sharp, rhythmic sound of a knife cutting through the vegetables, the occasional crunch as the knife hits the chopping board, and the soft thud as the chopped vegetables fall into a bowl.'"
            ],
            "application/vnd.google.colaboratory.intrinsic+json": {
              "type": "string"
            }
          },
          "metadata": {},
          "execution_count": 19
        }
      ]
    },
    {
      "cell_type": "markdown",
      "source": [
        "Reference: https://github.com/mshumer/gpt-llm-trainer"
      ],
      "metadata": {
        "id": "ivXyXGHT6Kyl"
      }
    }
  ],
  "metadata": {
    "colab": {
      "provenance": [],
      "toc_visible": true
    },
    "kernelspec": {
      "display_name": "Python 3",
      "name": "python3"
    },
    "language_info": {
      "name": "python"
    }
  },
  "nbformat": 4,
  "nbformat_minor": 0
}